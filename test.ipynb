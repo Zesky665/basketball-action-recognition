{
 "cells": [
  {
   "cell_type": "code",
   "execution_count": 2,
   "metadata": {},
   "outputs": [],
   "source": [
    "import json\n",
    "import shutil\n",
    "import os\n",
    "import itertools\n",
    "from augment_videos import augmentVideo\n",
    "\n",
    "def setup_training_data(annotation_dict_path, labels_dict_path, video_archive_path):\n",
    "    \n",
    "    training_data_path = \"dataset/training_data/\"\n",
    "    if not os.path.exists(training_data_path):\n",
    "        os.mkdir(training_data_path)\n",
    "    \n",
    "    with open(annotation_dict_path) as f:\n",
    "        annotation_dict = json.load(f)\n",
    "    \n",
    "    with open(labels_dict_path) as f:\n",
    "        labels_dict = json.load(f)\n",
    "        \n",
    "    n = len(annotation_dict) \n",
    "    m = round(n * 0.8)\n",
    "    i = iter(annotation_dict.items())\n",
    "\n",
    "    train = dict(itertools.islice(i, m))\n",
    "    val_test = dict(i)\n",
    "    \n",
    "    for i, annotation in enumerate(train):\n",
    "        annotation_str = str(annotation)\n",
    "        video_name = f'{annotation_str}.mp4'\n",
    "        video_class = str(annotation_dict[annotation])\n",
    "        \n",
    "        train_data_path = os.path.join(training_data_path, 'train')\n",
    "        if not os.path.exists(train_data_path):\n",
    "            os.mkdir(train_data_path)\n",
    "        data_class_path = os.path.join(train_data_path, video_class)\n",
    "        if not os.path.exists(data_class_path):\n",
    "            os.mkdir(data_class_path)\n",
    "                        \n",
    "        video_origin_path = os.path.join(video_archive_path, video_name)\n",
    "        video_target_path = os.path.join(data_class_path, video_name)\n",
    "        if not os.path.exists(video_target_path):\n",
    "            shutil.copy(video_origin_path, data_class_path)\n",
    "        \n",
    "    for i, annotation in enumerate(val_test):\n",
    "        annotation_str = str(annotation)\n",
    "        video_name = f'{annotation_str}.mp4'\n",
    "        video_class = str(annotation_dict[annotation])\n",
    "        \n",
    "        if(i%2!=0):\n",
    "            val_data_path = os.path.join(training_data_path, 'val')\n",
    "            if not os.path.exists(val_data_path):\n",
    "                    os.mkdir(val_data_path)\n",
    "            data_class_path = os.path.join(val_data_path, video_class)\n",
    "            if not os.path.exists(data_class_path):\n",
    "                    os.mkdir(data_class_path)\n",
    "                        \n",
    "            video_origin_path = os.path.join(video_archive_path, video_name)\n",
    "            video_target_path = os.path.join(data_class_path, video_name)\n",
    "            if not os.path.exists(video_target_path):\n",
    "                    shutil.copy(video_origin_path, data_class_path)\n",
    "        else:\n",
    "\n",
    "            test_data_path = os.path.join(training_data_path, 'test')\n",
    "            if not os.path.exists(test_data_path):\n",
    "                    os.mkdir(test_data_path)\n",
    "            data_class_path = os.path.join(test_data_path, video_class)\n",
    "                \n",
    "            if not os.path.exists(data_class_path):\n",
    "                    os.mkdir(data_class_path)\n",
    "                        \n",
    "            video_origin_path = os.path.join(video_archive_path, video_name)\n",
    "            video_target_path = os.path.join(data_class_path, video_name)\n",
    "            if not os.path.exists(video_target_path):\n",
    "                    shutil.copy(video_origin_path, data_class_path)"
   ]
  },
  {
   "cell_type": "code",
   "execution_count": 3,
   "metadata": {},
   "outputs": [],
   "source": [
    "\n",
    "annotation_dict_path = \"dataset/annotation_dict.json\"\n",
    "labels_dict_path = \"dataset/labels_dict.json\"\n",
    "video_archive_path = \"dataset/examples/\"\n",
    "\n",
    "\n",
    "augmented_duct_path = \"dataset/augmented_annotation_dict.json\"\n",
    "augmented_video_archive_path = \"dataset/augmented-videos/\"\n"
   ]
  },
  {
   "cell_type": "code",
   "execution_count": null,
   "metadata": {},
   "outputs": [],
   "source": [
    "augmentVideo(annotation_dict_path, labels_dict_path)"
   ]
  },
  {
   "cell_type": "code",
   "execution_count": 5,
   "metadata": {},
   "outputs": [],
   "source": [
    "setup_training_data(annotation_dict_path, labels_dict_path, video_archive_path)"
   ]
  },
  {
   "cell_type": "code",
   "execution_count": 6,
   "metadata": {},
   "outputs": [],
   "source": [
    "setup_training_data(augmented_duct_path, labels_dict_path, augmented_video_archive_path)"
   ]
  }
 ],
 "metadata": {
  "kernelspec": {
   "display_name": "bar",
   "language": "python",
   "name": "python3"
  },
  "language_info": {
   "codemirror_mode": {
    "name": "ipython",
    "version": 3
   },
   "file_extension": ".py",
   "mimetype": "text/x-python",
   "name": "python",
   "nbconvert_exporter": "python",
   "pygments_lexer": "ipython3",
   "version": "3.8.10"
  },
  "orig_nbformat": 4,
  "vscode": {
   "interpreter": {
    "hash": "d27c93b985041cbf2d2321576a58fd0d3a569f077e17595b36ccbd179654942d"
   }
  }
 },
 "nbformat": 4,
 "nbformat_minor": 2
}
